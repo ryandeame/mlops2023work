{
 "cells": [
  {
   "cell_type": "markdown",
   "metadata": {},
   "source": [
    "## MLflow's Model Registry"
   ]
  },
  {
   "cell_type": "code",
   "execution_count": 6,
   "metadata": {},
   "outputs": [],
   "source": [
    "from mlflow.tracking import MlflowClient\n",
    "\n",
    "\n",
    "MLFLOW_TRACKING_URI = \"sqlite:///mlflow.db\""
   ]
  },
  {
   "cell_type": "markdown",
   "metadata": {},
   "source": [
    "### Interacting with the MLflow tracking server\n",
    "\n",
    "The `MlflowClient` object allows us to interact with...\n",
    "- an MLflow Tracking Server that creates and manages experiments and runs.\n",
    "- an MLflow Registry Server that creates and manages registered models and model versions. \n",
    "\n",
    "To instantiate it we need to pass a tracking URI and/or a registry URI"
   ]
  },
  {
   "cell_type": "code",
   "execution_count": 9,
   "metadata": {},
   "outputs": [
    {
     "data": {
      "text/plain": [
       "[<Experiment: artifact_location='/home/jellyfish/MLOpsCamp/mlops-zoomcamp/02-experiment-tracking/mlruns/1', creation_time=1685294200498, experiment_id='1', last_update_time=1685294200498, lifecycle_stage='active', name='nyc-taxi-experiment', tags={}>,\n",
       " <Experiment: artifact_location='mlflow-artifacts:/0', creation_time=1685293597243, experiment_id='0', last_update_time=1685293597243, lifecycle_stage='active', name='Default', tags={}>]"
      ]
     },
     "execution_count": 9,
     "metadata": {},
     "output_type": "execute_result"
    }
   ],
   "source": [
    "client = MlflowClient(tracking_uri=MLFLOW_TRACKING_URI)\n",
    "\n",
    "client.search_experiments()"
   ]
  },
  {
   "cell_type": "code",
   "execution_count": 10,
   "metadata": {},
   "outputs": [
    {
     "data": {
      "text/plain": [
       "'2'"
      ]
     },
     "execution_count": 10,
     "metadata": {},
     "output_type": "execute_result"
    }
   ],
   "source": [
    "client.create_experiment(name=\"my-cool-experiment\")"
   ]
  },
  {
   "cell_type": "markdown",
   "metadata": {},
   "source": [
    "Let's check the latest versions for the experiment with id `1`..."
   ]
  },
  {
   "cell_type": "code",
   "execution_count": 11,
   "metadata": {},
   "outputs": [],
   "source": [
    "from mlflow.entities import ViewType\n",
    "\n",
    "runs = client.search_runs(\n",
    "    experiment_ids='1',\n",
    "    filter_string=\"\",\n",
    "    run_view_type=ViewType.ACTIVE_ONLY,\n",
    "    max_results=5,\n",
    "    order_by=[\"metrics.rmse ASC\"]\n",
    ")"
   ]
  },
  {
   "cell_type": "code",
   "execution_count": 12,
   "metadata": {},
   "outputs": [
    {
     "data": {
      "text/plain": [
       "[<Run: data=<RunData: metrics={'rmse': 6.28608183739523}, params={'learning_rate': '0.38681283879104617',\n",
       "  'max_depth': '18',\n",
       "  'min_child_weight': '1.148588628778374',\n",
       "  'objective': 'reg:linear',\n",
       "  'reg_alpha': '0.1422529043450288',\n",
       "  'reg_lambda': '0.3540021019352697',\n",
       "  'seed': '42'}, tags={'mlflow.log-model.history': '[{\"run_id\": \"5c26c923b2f940528a046a1581d88ab6\", '\n",
       "                              '\"artifact_path\": \"models_mlflow\", '\n",
       "                              '\"utc_time_created\": \"2023-05-29 '\n",
       "                              '14:15:08.599603\", \"flavors\": {\"python_function\": '\n",
       "                              '{\"loader_module\": \"mlflow.xgboost\", '\n",
       "                              '\"python_version\": \"3.9.16\", \"data\": \"model.xgb\", '\n",
       "                              '\"env\": {\"conda\": \"conda.yaml\", \"virtualenv\": '\n",
       "                              '\"python_env.yaml\"}}, \"xgboost\": {\"xgb_version\": '\n",
       "                              '\"1.7.5\", \"data\": \"model.xgb\", \"model_class\": '\n",
       "                              '\"xgboost.core.Booster\", \"model_format\": \"xgb\", '\n",
       "                              '\"code\": null}}, \"model_uuid\": '\n",
       "                              '\"40ae025eb95e49fe81981094ac461bd8\", '\n",
       "                              '\"mlflow_version\": \"2.3.2\"}]',\n",
       "  'mlflow.runName': 'silent-horse-69',\n",
       "  'mlflow.source.name': '/home/jellyfish/anaconda3/envs/exp-tracking-env/lib/python3.9/site-packages/ipykernel_launcher.py',\n",
       "  'mlflow.source.type': 'LOCAL',\n",
       "  'mlflow.user': 'jellyfish'}>, info=<RunInfo: artifact_uri='/home/jellyfish/MLOpsCamp/mlops-zoomcamp/02-experiment-tracking/mlruns/1/5c26c923b2f940528a046a1581d88ab6/artifacts', end_time=1685369710049, experiment_id='1', lifecycle_stage='active', run_id='5c26c923b2f940528a046a1581d88ab6', run_name='silent-horse-69', run_uuid='5c26c923b2f940528a046a1581d88ab6', start_time=1685369664573, status='FINISHED', user_id='jellyfish'>>,\n",
       " <Run: data=<RunData: metrics={'rmse': 6.28608183739523}, params={'learning_rate': '0.38681283879104617',\n",
       "  'max_depth': '18',\n",
       "  'min_child_weight': '1.148588628778374',\n",
       "  'objective': 'reg:linear',\n",
       "  'reg_alpha': '0.1422529043450288',\n",
       "  'reg_lambda': '0.3540021019352697',\n",
       "  'seed': '42'}, tags={'mlflow.runName': 'righteous-steed-506',\n",
       "  'mlflow.source.name': '/home/jellyfish/anaconda3/envs/exp-tracking-env/lib/python3.9/site-packages/ipykernel_launcher.py',\n",
       "  'mlflow.source.type': 'LOCAL',\n",
       "  'mlflow.user': 'jellyfish',\n",
       "  'model': 'xgboost'}>, info=<RunInfo: artifact_uri='/home/jellyfish/MLOpsCamp/mlops-zoomcamp/02-experiment-tracking/mlruns/1/5bcd8dad03f44305ba288e05762e54c0/artifacts', end_time=1685298761729, experiment_id='1', lifecycle_stage='active', run_id='5bcd8dad03f44305ba288e05762e54c0', run_name='righteous-steed-506', run_uuid='5bcd8dad03f44305ba288e05762e54c0', start_time=1685298713144, status='FINISHED', user_id='jellyfish'>>,\n",
       " <Run: data=<RunData: metrics={'rmse': 6.292304407585326}, params={'learning_rate': '0.15905192892229317',\n",
       "  'max_depth': '26',\n",
       "  'min_child_weight': '1.4564433256428604',\n",
       "  'objective': 'reg:linear',\n",
       "  'reg_alpha': '0.013775742439572455',\n",
       "  'reg_lambda': '0.10526025365900463',\n",
       "  'seed': '42'}, tags={'mlflow.runName': 'amusing-croc-657',\n",
       "  'mlflow.source.name': '/home/jellyfish/anaconda3/envs/exp-tracking-env/lib/python3.9/site-packages/ipykernel_launcher.py',\n",
       "  'mlflow.source.type': 'LOCAL',\n",
       "  'mlflow.user': 'jellyfish',\n",
       "  'model': 'xgboost'}>, info=<RunInfo: artifact_uri='/home/jellyfish/MLOpsCamp/mlops-zoomcamp/02-experiment-tracking/mlruns/1/bed184f451a340b49cf93aba9d931d53/artifacts', end_time=1685299120121, experiment_id='1', lifecycle_stage='active', run_id='bed184f451a340b49cf93aba9d931d53', run_name='amusing-croc-657', run_uuid='bed184f451a340b49cf93aba9d931d53', start_time=1685299074229, status='FINISHED', user_id='jellyfish'>>,\n",
       " <Run: data=<RunData: metrics={'rmse': 6.29341801222913}, params={'learning_rate': '0.20709180938322486',\n",
       "  'max_depth': '30',\n",
       "  'min_child_weight': '1.9352333120321021',\n",
       "  'objective': 'reg:linear',\n",
       "  'reg_alpha': '0.23386465757581343',\n",
       "  'reg_lambda': '0.1271279675208429',\n",
       "  'seed': '42'}, tags={'mlflow.runName': 'bustling-grub-586',\n",
       "  'mlflow.source.name': '/home/jellyfish/anaconda3/envs/exp-tracking-env/lib/python3.9/site-packages/ipykernel_launcher.py',\n",
       "  'mlflow.source.type': 'LOCAL',\n",
       "  'mlflow.user': 'jellyfish',\n",
       "  'model': 'xgboost'}>, info=<RunInfo: artifact_uri='/home/jellyfish/MLOpsCamp/mlops-zoomcamp/02-experiment-tracking/mlruns/1/ccbc0b0997944ae4b196b1ea2a180ead/artifacts', end_time=1685299493252, experiment_id='1', lifecycle_stage='active', run_id='ccbc0b0997944ae4b196b1ea2a180ead', run_name='bustling-grub-586', run_uuid='ccbc0b0997944ae4b196b1ea2a180ead', start_time=1685299465271, status='FINISHED', user_id='jellyfish'>>,\n",
       " <Run: data=<RunData: metrics={'rmse': 6.295981584639942}, params={'learning_rate': '0.323437256506361',\n",
       "  'max_depth': '41',\n",
       "  'min_child_weight': '1.6520939572914974',\n",
       "  'objective': 'reg:linear',\n",
       "  'reg_alpha': '0.3297967236410727',\n",
       "  'reg_lambda': '0.34888976612951633',\n",
       "  'seed': '42'}, tags={'mlflow.runName': 'salty-seal-466',\n",
       "  'mlflow.source.name': '/home/jellyfish/anaconda3/envs/exp-tracking-env/lib/python3.9/site-packages/ipykernel_launcher.py',\n",
       "  'mlflow.source.type': 'LOCAL',\n",
       "  'mlflow.user': 'jellyfish',\n",
       "  'model': 'xgboost'}>, info=<RunInfo: artifact_uri='/home/jellyfish/MLOpsCamp/mlops-zoomcamp/02-experiment-tracking/mlruns/1/dd68fce9f63c4118a55234cd88d52d45/artifacts', end_time=1685299390966, experiment_id='1', lifecycle_stage='active', run_id='dd68fce9f63c4118a55234cd88d52d45', run_name='salty-seal-466', run_uuid='dd68fce9f63c4118a55234cd88d52d45', start_time=1685299375168, status='FINISHED', user_id='jellyfish'>>]"
      ]
     },
     "execution_count": 12,
     "metadata": {},
     "output_type": "execute_result"
    }
   ],
   "source": [
    "runs"
   ]
  },
  {
   "cell_type": "code",
   "execution_count": 13,
   "metadata": {
    "scrolled": true
   },
   "outputs": [
    {
     "name": "stdout",
     "output_type": "stream",
     "text": [
      "run id: 5c26c923b2f940528a046a1581d88ab6, rmse: 6.2861\n",
      "run id: 5bcd8dad03f44305ba288e05762e54c0, rmse: 6.2861\n",
      "run id: bed184f451a340b49cf93aba9d931d53, rmse: 6.2923\n",
      "run id: ccbc0b0997944ae4b196b1ea2a180ead, rmse: 6.2934\n",
      "run id: dd68fce9f63c4118a55234cd88d52d45, rmse: 6.2960\n"
     ]
    }
   ],
   "source": [
    "for run in runs:\n",
    "    print(f\"run id: {run.info.run_id}, rmse: {run.data.metrics['rmse']:.4f}\")"
   ]
  },
  {
   "cell_type": "code",
   "execution_count": 17,
   "metadata": {},
   "outputs": [],
   "source": [
    "from mlflow.entities import ViewType\n",
    "\n",
    "runs = client.search_runs(\n",
    "    experiment_ids='1',\n",
    "    filter_string=\"metrics.rmse > 6.3 AND metrics.rmse < 7\",\n",
    "    run_view_type=ViewType.ACTIVE_ONLY,\n",
    "    max_results=5,\n",
    "    order_by=[\"metrics.rmse ASC\"]\n",
    ")"
   ]
  },
  {
   "cell_type": "code",
   "execution_count": 18,
   "metadata": {
    "scrolled": true
   },
   "outputs": [
    {
     "name": "stdout",
     "output_type": "stream",
     "text": [
      "run id: 12fb0dac0f7b46f1beb257c1474eeb2f, rmse: 6.3001\n",
      "run id: b80dc7b25c634367b038020b5a7f7a25, rmse: 6.3001\n",
      "run id: 45e69d5742c1405cb01207da92884879, rmse: 6.3001\n",
      "run id: 85b68fa099c24b65af4a262d3ab77b88, rmse: 6.3001\n",
      "run id: 6a0fbdb563a84cff81166ebbefb9a427, rmse: 6.3160\n"
     ]
    }
   ],
   "source": [
    "for run in runs:\n",
    "    print(f\"run id: {run.info.run_id}, rmse: {run.data.metrics['rmse']:.4f}\")"
   ]
  },
  {
   "cell_type": "markdown",
   "metadata": {},
   "source": [
    "### Interacting with the Model Registry\n",
    "\n",
    "In this section We will use the `MlflowClient` instance to:\n",
    "\n",
    "1. Register a new version for the experiment `nyc-taxi-regressor`\n",
    "2. Retrieve the latests versions of the model `nyc-taxi-regressor` and check that a new version `4` was created.\n",
    "3. Transition the version `4` to \"Staging\" and adding annotations to it."
   ]
  },
  {
   "cell_type": "code",
   "execution_count": 19,
   "metadata": {},
   "outputs": [],
   "source": [
    "import mlflow\n",
    "\n",
    "mlflow.set_tracking_uri(MLFLOW_TRACKING_URI)"
   ]
  },
  {
   "cell_type": "code",
   "execution_count": 44,
   "metadata": {},
   "outputs": [
    {
     "name": "stderr",
     "output_type": "stream",
     "text": [
      "Registered model 'nyc-taxi-regressor' already exists. Creating a new version of this model...\n",
      "2023/05/29 13:22:25 INFO mlflow.tracking._model_registry.client: Waiting up to 300 seconds for model version to finish creation. Model name: nyc-taxi-regressor, version 5\n",
      "Created version '5' of model 'nyc-taxi-regressor'.\n"
     ]
    },
    {
     "data": {
      "text/plain": [
       "<ModelVersion: aliases=[], creation_timestamp=1685384545573, current_stage='None', description=None, last_updated_timestamp=1685384545573, name='nyc-taxi-regressor', run_id='1058b04d80554dc5adb10d2a7fb67846', run_link=None, source='/home/jellyfish/MLOpsCamp/mlops-zoomcamp/02-experiment-tracking/mlruns/1/1058b04d80554dc5adb10d2a7fb67846/artifacts/model', status='READY', status_message=None, tags={}, user_id=None, version=5>"
      ]
     },
     "execution_count": 44,
     "metadata": {},
     "output_type": "execute_result"
    }
   ],
   "source": [
    "run_id = \"1058b04d80554dc5adb10d2a7fb67846\"\n",
    "model_uri = f\"runs:/{run_id}/model\"\n",
    "mlflow.register_model(model_uri=model_uri, name=\"nyc-taxi-regressor\")"
   ]
  },
  {
   "cell_type": "code",
   "execution_count": 23,
   "metadata": {},
   "outputs": [
    {
     "data": {
      "text/plain": [
       "[<RegisteredModel: aliases={}, creation_timestamp=1685379545405, description='NYC Taxi Predictor for trip duration.', last_updated_timestamp=1685382529623, latest_versions=[<ModelVersion: aliases=[], creation_timestamp=1685379566487, current_stage='Staging', description='', last_updated_timestamp=1685379759229, name='nyc-taxi-regressor', run_id='4a8f2b77cf3b411fa2a023ff812d942a', run_link='', source='/home/jellyfish/MLOpsCamp/mlops-zoomcamp/02-experiment-tracking/mlruns/1/4a8f2b77cf3b411fa2a023ff812d942a/artifacts/model', status='READY', status_message=None, tags={'model': 'gradientboostingregressor'}, user_id=None, version=2>,\n",
       "  <ModelVersion: aliases=[], creation_timestamp=1685382529623, current_stage='None', description=None, last_updated_timestamp=1685382529623, name='nyc-taxi-regressor', run_id='6a0fbdb563a84cff81166ebbefb9a427', run_link=None, source='/home/jellyfish/MLOpsCamp/mlops-zoomcamp/02-experiment-tracking/mlruns/1/6a0fbdb563a84cff81166ebbefb9a427/artifacts/model', status='READY', status_message=None, tags={}, user_id=None, version=3>], name='nyc-taxi-regressor', tags={}>]"
      ]
     },
     "execution_count": 23,
     "metadata": {},
     "output_type": "execute_result"
    }
   ],
   "source": [
    "client.search_registered_models()"
   ]
  },
  {
   "cell_type": "code",
   "execution_count": 45,
   "metadata": {},
   "outputs": [
    {
     "name": "stdout",
     "output_type": "stream",
     "text": [
      "version: 3, stage: Staging\n",
      "version: 4, stage: Production\n",
      "version: 5, stage: None\n"
     ]
    }
   ],
   "source": [
    "model_name = \"nyc-taxi-regressor\"\n",
    "latest_versions = client.get_latest_versions(name=model_name)\n",
    "latest_versions\n",
    "\n",
    "for version in latest_versions:\n",
    "    print(f\"version: {version.version}, stage: {version.current_stage}\")"
   ]
  },
  {
   "cell_type": "code",
   "execution_count": 46,
   "metadata": {},
   "outputs": [
    {
     "data": {
      "text/plain": [
       "<ModelVersion: aliases=[], creation_timestamp=1685384545573, current_stage='Production', description=None, last_updated_timestamp=1685384565146, name='nyc-taxi-regressor', run_id='1058b04d80554dc5adb10d2a7fb67846', run_link=None, source='/home/jellyfish/MLOpsCamp/mlops-zoomcamp/02-experiment-tracking/mlruns/1/1058b04d80554dc5adb10d2a7fb67846/artifacts/model', status='READY', status_message=None, tags={}, user_id=None, version=5>"
      ]
     },
     "execution_count": 46,
     "metadata": {},
     "output_type": "execute_result"
    }
   ],
   "source": [
    "model_version = 5\n",
    "new_stage = \"Production\"\n",
    "client.transition_model_version_stage(\n",
    "    name=model_name,\n",
    "    version=model_version,\n",
    "    stage=new_stage,\n",
    "    archive_existing_versions=False\n",
    ")"
   ]
  },
  {
   "cell_type": "code",
   "execution_count": 47,
   "metadata": {},
   "outputs": [
    {
     "data": {
      "text/plain": [
       "<ModelVersion: aliases=[], creation_timestamp=1685384545573, current_stage='Production', description='The model version 5 was transitioned to Production on 2023-05-29', last_updated_timestamp=1685384604725, name='nyc-taxi-regressor', run_id='1058b04d80554dc5adb10d2a7fb67846', run_link=None, source='/home/jellyfish/MLOpsCamp/mlops-zoomcamp/02-experiment-tracking/mlruns/1/1058b04d80554dc5adb10d2a7fb67846/artifacts/model', status='READY', status_message=None, tags={}, user_id=None, version=5>"
      ]
     },
     "execution_count": 47,
     "metadata": {},
     "output_type": "execute_result"
    }
   ],
   "source": [
    "from datetime import datetime\n",
    "\n",
    "date = datetime.today().date()\n",
    "client.update_model_version(\n",
    "    name=model_name,\n",
    "    version=model_version,\n",
    "    description=f\"The model version {model_version} was transitioned to {new_stage} on {date}\"\n",
    ")"
   ]
  },
  {
   "cell_type": "markdown",
   "metadata": {},
   "source": [
    "### Comparing versions and selecting the new \"Production\" model\n",
    "\n",
    "In the last section, we will retrieve models registered in the model registry and compare their performance on an unseen test set. The idea is to simulate the scenario in which a deployment engineer has to interact with the model registry to decide whether to update the model version that is in production or not.\n",
    "\n",
    "These are the steps:\n",
    "\n",
    "1. Load the test dataset, which corresponds to the NYC Green Taxi data from the month of March 2021.\n",
    "2. Download the `DictVectorizer` that was fitted using the training data and saved to MLflow as an artifact, and load it with pickle.\n",
    "3. Preprocess the test set using the `DictVectorizer` so we can properly feed the regressors.\n",
    "4. Make predictions on the test set using the model versions that are currently in the \"Staging\" and \"Production\" stages, and compare their performance.\n",
    "5. Based on the results, update the \"Production\" model version accordingly.\n",
    "\n",
    "\n",
    "**Note: the model registry doesn't actually deploy the model to production when you transition a model to the \"Production\" stage, it just assign a label to that model version. You should complement the registry with some CI/CD code that does the actual deployment.**"
   ]
  },
  {
   "cell_type": "code",
   "execution_count": 36,
   "metadata": {},
   "outputs": [],
   "source": [
    "from sklearn.metrics import mean_squared_error\n",
    "import pandas as pd\n",
    "\n",
    "\n",
    "def read_dataframe(filename):\n",
    "    df = pd.read_parquet(filename)\n",
    "\n",
    "    df.lpep_dropoff_datetime = pd.to_datetime(df.lpep_dropoff_datetime)\n",
    "    df.lpep_pickup_datetime = pd.to_datetime(df.lpep_pickup_datetime)\n",
    "\n",
    "    df['duration'] = df.lpep_dropoff_datetime - df.lpep_pickup_datetime\n",
    "    df.duration = df.duration.apply(lambda td: td.total_seconds() / 60)\n",
    "\n",
    "    df = df[(df.duration >= 1) & (df.duration <= 60)]\n",
    "\n",
    "    categorical = ['PULocationID', 'DOLocationID']\n",
    "    df[categorical] = df[categorical].astype(str)\n",
    "    \n",
    "    return df\n",
    "\n",
    "\n",
    "def preprocess(df, dv):\n",
    "    df['PU_DO'] = df['PULocationID'] + '_' + df['DOLocationID']\n",
    "    categorical = ['PU_DO']\n",
    "    numerical = ['trip_distance']\n",
    "    train_dicts = df[categorical + numerical].to_dict(orient='records')\n",
    "    return dv.transform(train_dicts)\n",
    "\n",
    "\n",
    "def test_model(name, stage, X_test, y_test):\n",
    "    model = mlflow.pyfunc.load_model(f\"models:/{name}/{stage}\")\n",
    "    y_pred = model.predict(X_test)\n",
    "    return {\"rmse\": mean_squared_error(y_test, y_pred, squared=False)}"
   ]
  },
  {
   "cell_type": "code",
   "execution_count": 37,
   "metadata": {},
   "outputs": [],
   "source": [
    "df = read_dataframe(\"data/green_tripdata_2021-03.parquet\")"
   ]
  },
  {
   "cell_type": "code",
   "execution_count": 38,
   "metadata": {},
   "outputs": [
    {
     "name": "stderr",
     "output_type": "stream",
     "text": [
      "/tmp/ipykernel_25274/2852634549.py:1: FutureWarning: ``mlflow.tracking.client.MlflowClient.download_artifacts`` is deprecated since 2.0. This method will be removed in a future release. Use ``mlflow.artifacts.download_artifacts`` instead.\n",
      "  client.download_artifacts(run_id=run_id, path='preprocessor', dst_path='.')\n"
     ]
    },
    {
     "data": {
      "text/plain": [
       "'/home/jellyfish/MLOpsCamp/mlops-zoomcamp/02-experiment-tracking/preprocessor'"
      ]
     },
     "execution_count": 38,
     "metadata": {},
     "output_type": "execute_result"
    }
   ],
   "source": [
    "client.download_artifacts(run_id=run_id, path='preprocessor', dst_path='.')"
   ]
  },
  {
   "cell_type": "code",
   "execution_count": 39,
   "metadata": {},
   "outputs": [],
   "source": [
    "import pickle\n",
    "\n",
    "with open(\"preprocessor/preprocessor.b\", \"rb\") as f_in:\n",
    "    dv = pickle.load(f_in)"
   ]
  },
  {
   "cell_type": "code",
   "execution_count": 40,
   "metadata": {},
   "outputs": [],
   "source": [
    "X_test = preprocess(df, dv)"
   ]
  },
  {
   "cell_type": "code",
   "execution_count": 41,
   "metadata": {},
   "outputs": [],
   "source": [
    "target = \"duration\"\n",
    "y_test = df[target].values"
   ]
  },
  {
   "cell_type": "code",
   "execution_count": 48,
   "metadata": {},
   "outputs": [
    {
     "name": "stderr",
     "output_type": "stream",
     "text": [
      "2023/05/29 13:23:37 WARNING mlflow.pyfunc: Detected one or more mismatches between the model's dependencies and the current Python environment:\n",
      " - mlflow (current: 2.3.2, required: mlflow==2.3)\n",
      "To fix the mismatches, call `mlflow.pyfunc.get_model_dependencies(model_uri)` to fetch the model's environment and install dependencies using the resulting environment file.\n"
     ]
    },
    {
     "name": "stdout",
     "output_type": "stream",
     "text": [
      "CPU times: user 6.44 s, sys: 37.7 ms, total: 6.48 s\n",
      "Wall time: 6.53 s\n"
     ]
    },
    {
     "data": {
      "text/plain": [
       "{'rmse': 6.883765131510798}"
      ]
     },
     "execution_count": 48,
     "metadata": {},
     "output_type": "execute_result"
    }
   ],
   "source": [
    "%time test_model(name=model_name, stage=\"Production\", X_test=X_test, y_test=y_test)"
   ]
  },
  {
   "cell_type": "code",
   "execution_count": 49,
   "metadata": {},
   "outputs": [
    {
     "name": "stderr",
     "output_type": "stream",
     "text": [
      "2023/05/29 13:25:45 WARNING mlflow.pyfunc: Detected one or more mismatches between the model's dependencies and the current Python environment:\n",
      " - mlflow (current: 2.3.2, required: mlflow==2.3)\n",
      "To fix the mismatches, call `mlflow.pyfunc.get_model_dependencies(model_uri)` to fetch the model's environment and install dependencies using the resulting environment file.\n"
     ]
    },
    {
     "name": "stdout",
     "output_type": "stream",
     "text": [
      "CPU times: user 79.5 ms, sys: 12.3 ms, total: 91.8 ms\n",
      "Wall time: 102 ms\n"
     ]
    },
    {
     "data": {
      "text/plain": [
       "{'rmse': 6.659623830022513}"
      ]
     },
     "execution_count": 49,
     "metadata": {},
     "output_type": "execute_result"
    }
   ],
   "source": [
    "%time test_model(name=model_name, stage=\"Staging\", X_test=X_test, y_test=y_test)"
   ]
  },
  {
   "cell_type": "code",
   "execution_count": 50,
   "metadata": {},
   "outputs": [
    {
     "data": {
      "text/plain": [
       "<ModelVersion: aliases=[], creation_timestamp=1685379566487, current_stage='Production', description='', last_updated_timestamp=1685384849405, name='nyc-taxi-regressor', run_id='4a8f2b77cf3b411fa2a023ff812d942a', run_link='', source='/home/jellyfish/MLOpsCamp/mlops-zoomcamp/02-experiment-tracking/mlruns/1/4a8f2b77cf3b411fa2a023ff812d942a/artifacts/model', status='READY', status_message=None, tags={'model': 'gradientboostingregressor'}, user_id=None, version=2>"
      ]
     },
     "execution_count": 50,
     "metadata": {},
     "output_type": "execute_result"
    }
   ],
   "source": [
    "client.transition_model_version_stage(\n",
    "    name=model_name,\n",
    "    version=2,\n",
    "    stage=\"Production\",\n",
    "    archive_existing_versions=True\n",
    ")"
   ]
  }
 ],
 "metadata": {
  "interpreter": {
   "hash": "0848c9d6c7d415ad6c477ff7ff8e98694d1a4aa96d0deee89244642e6b630036"
  },
  "kernelspec": {
   "display_name": "Python 3 (ipykernel)",
   "language": "python",
   "name": "python3"
  },
  "language_info": {
   "codemirror_mode": {
    "name": "ipython",
    "version": 3
   },
   "file_extension": ".py",
   "mimetype": "text/x-python",
   "name": "python",
   "nbconvert_exporter": "python",
   "pygments_lexer": "ipython3",
   "version": "3.10.9"
  }
 },
 "nbformat": 4,
 "nbformat_minor": 2
}
